{
  "cells": [
    {
      "cell_type": "code",
      "source": [
        "# Комбинированный метод хорд и касательных\n",
        "from ipywidgets import interact, interactive, fixed, interact_manual\n",
        "import ipywidgets as widgets\n",
        "from IPython.display import display\n",
        "\n",
        "\n",
        "def step_slice(lst, step):\n",
        "    return lst[step]\n",
        "\n",
        "# параметры анимации\n",
        "def animate_list(lst, play=False, interval=200):\n",
        "    slider = widgets.IntSlider(min=0, max=len(lst) - 1, step=1, value=0)\n",
        "    if play:\n",
        "        play_widjet = widgets.Play(interval=interval)\n",
        "        widgets.jslink((play_widjet, 'value'), (slider, 'value'))\n",
        "        display(play_widjet)\n",
        "        # slider = widgets.Box([play_widject, slider])\n",
        "    return interact(step_slice,\n",
        "                    lst=fixed(lst),\n",
        "                    step=slider)"
      ],
      "metadata": {
        "id": "TkStcNRVlvI6"
      },
      "execution_count": 39,
      "outputs": []
    },
    {
      "cell_type": "code",
      "source": [
        "import numpy as np\n",
        "import matplotlib.pyplot as plt\n",
        "a_list = [-1]\n",
        "b_list = [15]\n",
        "def f(x):\n",
        "    return x ** 2 + x - 11 # Заданная вариантом функция\n",
        "# 1ая производная\n",
        "def f1(x):\n",
        "    return 2 * x + 1\n",
        "\n",
        "# координата по оси y для второй точки касательной\n",
        "def f_tangent(x0, x):\n",
        "    return f1(x0) * (x - x0) + f(x0)\n",
        "\n",
        "# координата по оси x для второй точки касательной\n",
        "def x_tangent(x0, y):\n",
        "    return (y - f(x0)) / f1(x0) + x0\n",
        "\n",
        "# Отрисовка\n",
        "def plot_trajectory(func, a, b, a1, b1, limit_point=None):\n",
        "    fig = plt.figure(figsize=(5, 5)) # Создаем рисунок и задаем его размеры\n",
        "    ax = fig.add_axes([0, 0, 2, 1])   #Задаем маштаб\n",
        "    ax.grid(True) # включить сетку графика\n",
        "    delta = 0.025 # шаг между точкам\n",
        "    x = np.arange(a_list[0], b_list[0], delta) # Вектор оси x\n",
        "    ax.plot(x, f(x),'k')\n",
        "    if a != a1 and b!= b1:\n",
        "        if f(a) > 0:\n",
        "            ax.plot([a, a], [f(a), np.min(f(x))], linestyle='--', color='#000000') # вертикальная прямая a\n",
        "        else:\n",
        "            ax.plot([a, a], [f(a), 0], linestyle='--', color='#000000') # вертикальная прямая a\n",
        "        if f(a1) > 0:\n",
        "            ax.plot([a1, a1], [np.min(f(x)), f(a1)], linestyle='--', color='#000000') # вертикальная прямая a1\n",
        "        else:\n",
        "            ax.plot([a1, a1], [0, f(a1)], linestyle='--', color='#000000') # вертикальная прямая a1\n",
        "        if f(b) > 0:\n",
        "            ax.plot([b, b] , [np.min(f(x)), f(b)], linestyle='--', color='#000000') # вертикальная прямая b\n",
        "        else:\n",
        "            ax.plot([b, b] , [0, f(b)], linestyle='--', color='#000000') # вертикальная прямая b\n",
        "        if f(b1) > 0:\n",
        "            ax.plot([b1, b1] , [np.min(f(x)), f(b1)], linestyle='--', color='#000000') # вертикальная прямая b1\n",
        "        else:\n",
        "            ax.plot([b1, b1] , [np.min(f(x)), f(b1)], linestyle='--', color='#000000') # вертикальная прямая b1\n",
        "        ax.plot([b, x_tangent(b, np.min(f(x)))], [f(b), np.min(f(x))]) # касательная в точке b\n",
        "        ax.plot([b1, x_tangent(b1, np.min(f(x)))], [f(b1), np.min(f(x))]) # касательная в точке b1\n",
        "        ax.plot([a, b], [f(a), f(b)]) # хорда\n",
        "        ax.plot([a1, b1], [f(a1), f(b1)]) # хорда\n",
        "        for i in range(len(a_list) - 2):\n",
        "            ax.plot([a_list[i], b_list[i]], [f(a_list[i]), f(b_list[i])], color='black', alpha=0.3)\n",
        "            ax.plot([b_list[i], x_tangent(b_list[i], np.min(f(x)))], [f(b_list[i]), np.min(f(x))], color='black', alpha=0.3)\n",
        "        ax.plot(a, f(a),'o', color='black')    # точка a\n",
        "        ax.plot(a1, f(a1), 'o', color='black')    # точка a1\n",
        "        ax.plot(b, f(b), 'o', color='black')    # точка b\n",
        "        ax.plot(b1, f(b1), 'o', color='black')  # точка b1\n",
        "    else:\n",
        "        pass\n",
        "    ax.plot([a_list, b_list], [0, 0], color='black')\n",
        "    plt.xlabel('x')\n",
        "    plt.ylabel('f(x)')\n",
        "    plt.close(fig)\n",
        "    return fig\n",
        "\n",
        "# точность нахождения корня\n",
        "e = 0.001\n",
        "plots = []\n",
        "plots.append(plot_trajectory(f, a_list[0], b_list[0], a_list[0], b_list[0], limit_point=(0, 0)))\n",
        "# тела вычислений\n",
        "while b_list[-1] - a_list[-1] > e:\n",
        "    a = a_list[-1]\n",
        "    b = b_list[-1]\n",
        "    a_list.append(a - f(a) * (b - a) / (f(b) - f(a)))\n",
        "    b_list.append(b - f(b) / f1(b))\n",
        "    plots.append(plot_trajectory(f, a, b, a_list[-1], b_list[-1], limit_point=(0, 0)))\n",
        "\n",
        "\n",
        "animate_list(plots, play=True, interval=300);"
      ],
      "metadata": {
        "colab": {
          "base_uri": "https://localhost:8080/",
          "height": 644,
          "referenced_widgets": [
            "22aa6d34a3d6438fba8ecac7c4b42365",
            "730106372dc54416a9878294bebc205c",
            "763fb45fd3264b64960b871bcd593639",
            "18f991244867484ab9282ef27f10a3a6",
            "78a58a2fe4c94192b9aff4997d7b969c",
            "621b6aa7e7b64adab5b0f818f84f8ee3",
            "8ededfd7157e4e81a1ef418ea024c672",
            "f87ec8d58d6b426da5cdcb8efb3fb851",
            "cf1555ee0780472db50be19d40103bf0",
            "b85e1dbb67064de4a2e0c99d80fb68fd"
          ]
        },
        "id": "HK4Z93ysl5r5",
        "outputId": "257ae953-7205-409d-c06e-2db6b1e238fa"
      },
      "execution_count": 62,
      "outputs": [
        {
          "output_type": "display_data",
          "data": {
            "text/plain": [
              "Play(value=0, interval=300)"
            ],
            "application/vnd.jupyter.widget-view+json": {
              "version_major": 2,
              "version_minor": 0,
              "model_id": "22aa6d34a3d6438fba8ecac7c4b42365"
            }
          },
          "metadata": {}
        },
        {
          "output_type": "display_data",
          "data": {
            "text/plain": [
              "interactive(children=(IntSlider(value=0, description='step', max=5), Output()), _dom_classes=('widget-interact…"
            ],
            "application/vnd.jupyter.widget-view+json": {
              "version_major": 2,
              "version_minor": 0,
              "model_id": "18f991244867484ab9282ef27f10a3a6"
            }
          },
          "metadata": {}
        }
      ]
    },
    {
      "cell_type": "markdown",
      "metadata": {
        "nbpages": {
          "level": 3,
          "link": "[1.1.5.4 Official documentation, examples, and galleries](https://jckantor.github.io/CBE30338/01.01-Getting-Started-with-Python-and-Jupyter-Notebooks.html#1.1.5.4-Official-documentation,-examples,-and-galleries)",
          "section": "1.1.5.4 Official documentation, examples, and galleries"
        },
        "id": "xcXiQOKalmK5"
      },
      "source": [
        "<!--NAVIGATION-->\n",
        "< [1.0 Getting Started](https://jckantor.github.io/CBE30338/01.00-Getting-Started.html) | [Contents](toc.html) | [Tag Index](tag_index.html) | [1.2 Python Basics](https://jckantor.github.io/CBE30338/01.02-Python-Basics.html) ><p><a href=\"https://colab.research.google.com/github/jckantor/CBE30338/blob/master/docs/01.01-Getting-Started-with-Python-and-Jupyter-Notebooks.ipynb\"> <img align=\"left\" src=\"https://colab.research.google.com/assets/colab-badge.svg\" alt=\"Open in Colab\" title=\"Open in Google Colaboratory\"></a><p><a href=\"https://jckantor.github.io/CBE30338/01.01-Getting-Started-with-Python-and-Jupyter-Notebooks.ipynb\"> <img align=\"left\" src=\"https://img.shields.io/badge/Github-Download-blue.svg\" alt=\"Download\" title=\"Download Notebook\"></a>"
      ]
    }
  ],
  "metadata": {
    "anaconda-cloud": {},
    "kernelspec": {
      "display_name": "Python 3",
      "language": "python",
      "name": "python3"
    },
    "language_info": {
      "codemirror_mode": {
        "name": "ipython",
        "version": 3
      },
      "file_extension": ".py",
      "mimetype": "text/x-python",
      "name": "python",
      "nbconvert_exporter": "python",
      "pygments_lexer": "ipython3",
      "version": "3.7.4"
    },
    "colab": {
      "provenance": []
    },
    "widgets": {
      "application/vnd.jupyter.widget-state+json": {
        "22aa6d34a3d6438fba8ecac7c4b42365": {
          "model_module": "@jupyter-widgets/controls",
          "model_name": "PlayModel",
          "model_module_version": "1.5.0",
          "state": {
            "_dom_classes": [],
            "_model_module": "@jupyter-widgets/controls",
            "_model_module_version": "1.5.0",
            "_model_name": "PlayModel",
            "_playing": false,
            "_repeat": false,
            "_view_count": null,
            "_view_module": "@jupyter-widgets/controls",
            "_view_module_version": "1.5.0",
            "_view_name": "PlayView",
            "description": "",
            "description_tooltip": null,
            "disabled": false,
            "interval": 300,
            "layout": "IPY_MODEL_730106372dc54416a9878294bebc205c",
            "max": 100,
            "min": 0,
            "show_repeat": true,
            "step": 1,
            "style": "IPY_MODEL_763fb45fd3264b64960b871bcd593639",
            "value": 2
          }
        },
        "730106372dc54416a9878294bebc205c": {
          "model_module": "@jupyter-widgets/base",
          "model_name": "LayoutModel",
          "model_module_version": "1.2.0",
          "state": {
            "_model_module": "@jupyter-widgets/base",
            "_model_module_version": "1.2.0",
            "_model_name": "LayoutModel",
            "_view_count": null,
            "_view_module": "@jupyter-widgets/base",
            "_view_module_version": "1.2.0",
            "_view_name": "LayoutView",
            "align_content": null,
            "align_items": null,
            "align_self": null,
            "border": null,
            "bottom": null,
            "display": null,
            "flex": null,
            "flex_flow": null,
            "grid_area": null,
            "grid_auto_columns": null,
            "grid_auto_flow": null,
            "grid_auto_rows": null,
            "grid_column": null,
            "grid_gap": null,
            "grid_row": null,
            "grid_template_areas": null,
            "grid_template_columns": null,
            "grid_template_rows": null,
            "height": null,
            "justify_content": null,
            "justify_items": null,
            "left": null,
            "margin": null,
            "max_height": null,
            "max_width": null,
            "min_height": null,
            "min_width": null,
            "object_fit": null,
            "object_position": null,
            "order": null,
            "overflow": null,
            "overflow_x": null,
            "overflow_y": null,
            "padding": null,
            "right": null,
            "top": null,
            "visibility": null,
            "width": null
          }
        },
        "763fb45fd3264b64960b871bcd593639": {
          "model_module": "@jupyter-widgets/controls",
          "model_name": "DescriptionStyleModel",
          "model_module_version": "1.5.0",
          "state": {
            "_model_module": "@jupyter-widgets/controls",
            "_model_module_version": "1.5.0",
            "_model_name": "DescriptionStyleModel",
            "_view_count": null,
            "_view_module": "@jupyter-widgets/base",
            "_view_module_version": "1.2.0",
            "_view_name": "StyleView",
            "description_width": ""
          }
        },
        "18f991244867484ab9282ef27f10a3a6": {
          "model_module": "@jupyter-widgets/controls",
          "model_name": "VBoxModel",
          "model_module_version": "1.5.0",
          "state": {
            "_dom_classes": [
              "widget-interact"
            ],
            "_model_module": "@jupyter-widgets/controls",
            "_model_module_version": "1.5.0",
            "_model_name": "VBoxModel",
            "_view_count": null,
            "_view_module": "@jupyter-widgets/controls",
            "_view_module_version": "1.5.0",
            "_view_name": "VBoxView",
            "box_style": "",
            "children": [
              "IPY_MODEL_78a58a2fe4c94192b9aff4997d7b969c",
              "IPY_MODEL_621b6aa7e7b64adab5b0f818f84f8ee3"
            ],
            "layout": "IPY_MODEL_8ededfd7157e4e81a1ef418ea024c672"
          }
        },
        "78a58a2fe4c94192b9aff4997d7b969c": {
          "model_module": "@jupyter-widgets/controls",
          "model_name": "IntSliderModel",
          "model_module_version": "1.5.0",
          "state": {
            "_dom_classes": [],
            "_model_module": "@jupyter-widgets/controls",
            "_model_module_version": "1.5.0",
            "_model_name": "IntSliderModel",
            "_view_count": null,
            "_view_module": "@jupyter-widgets/controls",
            "_view_module_version": "1.5.0",
            "_view_name": "IntSliderView",
            "continuous_update": true,
            "description": "step",
            "description_tooltip": null,
            "disabled": false,
            "layout": "IPY_MODEL_f87ec8d58d6b426da5cdcb8efb3fb851",
            "max": 5,
            "min": 0,
            "orientation": "horizontal",
            "readout": true,
            "readout_format": "d",
            "step": 1,
            "style": "IPY_MODEL_cf1555ee0780472db50be19d40103bf0",
            "value": 2
          }
        },
        "621b6aa7e7b64adab5b0f818f84f8ee3": {
          "model_module": "@jupyter-widgets/output",
          "model_name": "OutputModel",
          "model_module_version": "1.0.0",
          "state": {
            "_dom_classes": [],
            "_model_module": "@jupyter-widgets/output",
            "_model_module_version": "1.0.0",
            "_model_name": "OutputModel",
            "_view_count": null,
            "_view_module": "@jupyter-widgets/output",
            "_view_module_version": "1.0.0",
            "_view_name": "OutputView",
            "layout": "IPY_MODEL_b85e1dbb67064de4a2e0c99d80fb68fd",
            "msg_id": "",
            "outputs": [
              {
                "output_type": "display_data",
                "data": {
                  "text/plain": "<Figure size 500x500 with 1 Axes>",
                  "image/png": "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\n"
                },
                "metadata": {}
              }
            ]
          }
        },
        "8ededfd7157e4e81a1ef418ea024c672": {
          "model_module": "@jupyter-widgets/base",
          "model_name": "LayoutModel",
          "model_module_version": "1.2.0",
          "state": {
            "_model_module": "@jupyter-widgets/base",
            "_model_module_version": "1.2.0",
            "_model_name": "LayoutModel",
            "_view_count": null,
            "_view_module": "@jupyter-widgets/base",
            "_view_module_version": "1.2.0",
            "_view_name": "LayoutView",
            "align_content": null,
            "align_items": null,
            "align_self": null,
            "border": null,
            "bottom": null,
            "display": null,
            "flex": null,
            "flex_flow": null,
            "grid_area": null,
            "grid_auto_columns": null,
            "grid_auto_flow": null,
            "grid_auto_rows": null,
            "grid_column": null,
            "grid_gap": null,
            "grid_row": null,
            "grid_template_areas": null,
            "grid_template_columns": null,
            "grid_template_rows": null,
            "height": null,
            "justify_content": null,
            "justify_items": null,
            "left": null,
            "margin": null,
            "max_height": null,
            "max_width": null,
            "min_height": null,
            "min_width": null,
            "object_fit": null,
            "object_position": null,
            "order": null,
            "overflow": null,
            "overflow_x": null,
            "overflow_y": null,
            "padding": null,
            "right": null,
            "top": null,
            "visibility": null,
            "width": null
          }
        },
        "f87ec8d58d6b426da5cdcb8efb3fb851": {
          "model_module": "@jupyter-widgets/base",
          "model_name": "LayoutModel",
          "model_module_version": "1.2.0",
          "state": {
            "_model_module": "@jupyter-widgets/base",
            "_model_module_version": "1.2.0",
            "_model_name": "LayoutModel",
            "_view_count": null,
            "_view_module": "@jupyter-widgets/base",
            "_view_module_version": "1.2.0",
            "_view_name": "LayoutView",
            "align_content": null,
            "align_items": null,
            "align_self": null,
            "border": null,
            "bottom": null,
            "display": null,
            "flex": null,
            "flex_flow": null,
            "grid_area": null,
            "grid_auto_columns": null,
            "grid_auto_flow": null,
            "grid_auto_rows": null,
            "grid_column": null,
            "grid_gap": null,
            "grid_row": null,
            "grid_template_areas": null,
            "grid_template_columns": null,
            "grid_template_rows": null,
            "height": null,
            "justify_content": null,
            "justify_items": null,
            "left": null,
            "margin": null,
            "max_height": null,
            "max_width": null,
            "min_height": null,
            "min_width": null,
            "object_fit": null,
            "object_position": null,
            "order": null,
            "overflow": null,
            "overflow_x": null,
            "overflow_y": null,
            "padding": null,
            "right": null,
            "top": null,
            "visibility": null,
            "width": null
          }
        },
        "cf1555ee0780472db50be19d40103bf0": {
          "model_module": "@jupyter-widgets/controls",
          "model_name": "SliderStyleModel",
          "model_module_version": "1.5.0",
          "state": {
            "_model_module": "@jupyter-widgets/controls",
            "_model_module_version": "1.5.0",
            "_model_name": "SliderStyleModel",
            "_view_count": null,
            "_view_module": "@jupyter-widgets/base",
            "_view_module_version": "1.2.0",
            "_view_name": "StyleView",
            "description_width": "",
            "handle_color": null
          }
        },
        "b85e1dbb67064de4a2e0c99d80fb68fd": {
          "model_module": "@jupyter-widgets/base",
          "model_name": "LayoutModel",
          "model_module_version": "1.2.0",
          "state": {
            "_model_module": "@jupyter-widgets/base",
            "_model_module_version": "1.2.0",
            "_model_name": "LayoutModel",
            "_view_count": null,
            "_view_module": "@jupyter-widgets/base",
            "_view_module_version": "1.2.0",
            "_view_name": "LayoutView",
            "align_content": null,
            "align_items": null,
            "align_self": null,
            "border": null,
            "bottom": null,
            "display": null,
            "flex": null,
            "flex_flow": null,
            "grid_area": null,
            "grid_auto_columns": null,
            "grid_auto_flow": null,
            "grid_auto_rows": null,
            "grid_column": null,
            "grid_gap": null,
            "grid_row": null,
            "grid_template_areas": null,
            "grid_template_columns": null,
            "grid_template_rows": null,
            "height": null,
            "justify_content": null,
            "justify_items": null,
            "left": null,
            "margin": null,
            "max_height": null,
            "max_width": null,
            "min_height": null,
            "min_width": null,
            "object_fit": null,
            "object_position": null,
            "order": null,
            "overflow": null,
            "overflow_x": null,
            "overflow_y": null,
            "padding": null,
            "right": null,
            "top": null,
            "visibility": null,
            "width": null
          }
        }
      }
    }
  },
  "nbformat": 4,
  "nbformat_minor": 0
}